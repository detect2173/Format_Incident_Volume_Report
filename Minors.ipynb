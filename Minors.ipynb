{
 "cells": [
  {
   "cell_type": "code",
   "execution_count": 2,
   "outputs": [],
   "source": [
    "import pandas as pd"
   ],
   "metadata": {
    "collapsed": false,
    "pycharm": {
     "name": "#%%\n"
    }
   }
  },
  {
   "cell_type": "code",
   "execution_count": 2,
   "outputs": [],
   "source": [
    "data = pd.read_csv('2022_minors.csv')"
   ],
   "metadata": {
    "collapsed": false,
    "pycharm": {
     "name": "#%%\n"
    }
   }
  },
  {
   "cell_type": "code",
   "execution_count": 3,
   "outputs": [
    {
     "data": {
      "text/plain": "                                                 Minor  \\\n0    Absent/excessively tardy w/o permission from a...   \n1    Absent/excessively tardy w/o permission from a...   \n2    Absent/excessively tardy w/o permission from a...   \n3    Absent/excessively tardy w/o permission from a...   \n4    Absent/excessively tardy w/o permission from a...   \n..                                                 ...   \n144      Using profanity, abusive, or obscene language   \n145      Using profanity, abusive, or obscene language   \n146      Using profanity, abusive, or obscene language   \n147                        Violating center dress code   \n148                        Violating center dress code   \n\n                                           Description       ID  \n0    Student was absent from four dorm accountabili...  1841176  \n1    Student missed accountability 3 days in a row....  1867817  \n2    This student had excessive absences from class...  1867817  \n3    This student had excessive absences from class...  1864555  \n4    This student had excessive absences from class...  1881632  \n..                                                 ...      ...  \n144  Student cursed profanities while refusing to d...  1864387  \n145  Student called residential counselor a Bitch w...  1876370  \n146  Student was told not to cook after curfew. Stu...  1848674  \n147  Student was reminded to remove his head coveri...  1861720  \n148            Shylee refused to put on uniform today.  1876179  \n\n[149 rows x 3 columns]",
      "text/html": "<div>\n<style scoped>\n    .dataframe tbody tr th:only-of-type {\n        vertical-align: middle;\n    }\n\n    .dataframe tbody tr th {\n        vertical-align: top;\n    }\n\n    .dataframe thead th {\n        text-align: right;\n    }\n</style>\n<table border=\"1\" class=\"dataframe\">\n  <thead>\n    <tr style=\"text-align: right;\">\n      <th></th>\n      <th>Minor</th>\n      <th>Description</th>\n      <th>ID</th>\n    </tr>\n  </thead>\n  <tbody>\n    <tr>\n      <th>0</th>\n      <td>Absent/excessively tardy w/o permission from a...</td>\n      <td>Student was absent from four dorm accountabili...</td>\n      <td>1841176</td>\n    </tr>\n    <tr>\n      <th>1</th>\n      <td>Absent/excessively tardy w/o permission from a...</td>\n      <td>Student missed accountability 3 days in a row....</td>\n      <td>1867817</td>\n    </tr>\n    <tr>\n      <th>2</th>\n      <td>Absent/excessively tardy w/o permission from a...</td>\n      <td>This student had excessive absences from class...</td>\n      <td>1867817</td>\n    </tr>\n    <tr>\n      <th>3</th>\n      <td>Absent/excessively tardy w/o permission from a...</td>\n      <td>This student had excessive absences from class...</td>\n      <td>1864555</td>\n    </tr>\n    <tr>\n      <th>4</th>\n      <td>Absent/excessively tardy w/o permission from a...</td>\n      <td>This student had excessive absences from class...</td>\n      <td>1881632</td>\n    </tr>\n    <tr>\n      <th>...</th>\n      <td>...</td>\n      <td>...</td>\n      <td>...</td>\n    </tr>\n    <tr>\n      <th>144</th>\n      <td>Using profanity, abusive, or obscene language</td>\n      <td>Student cursed profanities while refusing to d...</td>\n      <td>1864387</td>\n    </tr>\n    <tr>\n      <th>145</th>\n      <td>Using profanity, abusive, or obscene language</td>\n      <td>Student called residential counselor a Bitch w...</td>\n      <td>1876370</td>\n    </tr>\n    <tr>\n      <th>146</th>\n      <td>Using profanity, abusive, or obscene language</td>\n      <td>Student was told not to cook after curfew. Stu...</td>\n      <td>1848674</td>\n    </tr>\n    <tr>\n      <th>147</th>\n      <td>Violating center dress code</td>\n      <td>Student was reminded to remove his head coveri...</td>\n      <td>1861720</td>\n    </tr>\n    <tr>\n      <th>148</th>\n      <td>Violating center dress code</td>\n      <td>Shylee refused to put on uniform today.</td>\n      <td>1876179</td>\n    </tr>\n  </tbody>\n</table>\n<p>149 rows × 3 columns</p>\n</div>"
     },
     "execution_count": 3,
     "metadata": {},
     "output_type": "execute_result"
    }
   ],
   "source": [],
   "metadata": {
    "collapsed": false,
    "pycharm": {
     "name": "#%%\n"
    }
   }
  },
  {
   "cell_type": "code",
   "execution_count": 9,
   "outputs": [
    {
     "data": {
      "text/plain": "array(['Absent/excessively tardy w/o permission from assigned activi',\n       'Failing to follow instructions', 'Failing to follow safety rules',\n       'Failure to follow the student handbook rules',\n       'Refusing to perform assignments',\n       'Smoking in an unauthorized area',\n       'Using profanity, abusive, or obscene language',\n       'Violating center dress code'], dtype=object)"
     },
     "execution_count": 9,
     "metadata": {},
     "output_type": "execute_result"
    }
   ],
   "source": [
    "data['Minor'].unique()"
   ],
   "metadata": {
    "collapsed": false,
    "pycharm": {
     "name": "#%%\n"
    }
   }
  },
  {
   "cell_type": "code",
   "execution_count": 3,
   "outputs": [],
   "source": [
    "data2 = pd.read_csv('IncidentVolumeCV.csv')"
   ],
   "metadata": {
    "collapsed": false,
    "pycharm": {
     "name": "#%%\n"
    }
   }
  },
  {
   "cell_type": "code",
   "execution_count": 4,
   "outputs": [
    {
     "data": {
      "text/plain": "                                          IncidentDesc       BehaviorDt  \\\n0    Absent/excessively tardy w/o permission from a...  1/22/2022 15:00   \n1    Absent/excessively tardy w/o permission from a...   1/25/2022 7:00   \n2       Student has overcome some difficult challenges   1/25/2022 7:00   \n3                        Student exceeded expectations  1/30/2022 18:30   \n4    Absent/excessively tardy w/o permission from a...    2/1/2022 7:00   \n..                                                 ...              ...   \n950                   Student exhibited teamwork today  2/12/2022 16:45   \n951  Absent/excessively tardy w/o permission from a...   2/15/2022 8:34   \n952                        Volunteering for extra duty  3/10/2022 21:15   \n953   Student was observed modeling positive behaviors   3/2/2022 14:03   \n954  Absent/excessively tardy w/o permission from a...   5/10/2022 8:34   \n\n    StudLname StudFname StudMi     StudId            Location  \\\n0      ACOSTA    SAYYID      A  1867817.0             Dorm 22   \n1      ACOSTA    SAYYID      A  1867817.0  Bldg.2 - Education   \n2      ACOSTA    SAYYID      A  1867817.0             Dorm 22   \n3      ACOSTA    SAYYID      A  1867817.0             Dorm 22   \n4      ACOSTA    SAYYID      A  1867817.0  Bldg.2 - Education   \n..        ...       ...    ...        ...                 ...   \n950    WILLIS      CODY      J  1883190.0             Dorm 23   \n951    WILLIS      CODY      J  1883190.0  Bldg.2 - Education   \n952    WILLIS      CODY      J  1883190.0             Dorm 23   \n953    WILLIS      CODY      J  1883190.0  Bldg.2 - Education   \n954    WILLIS      CODY      J  1883190.0  Bldg.2 - Education   \n\n         IncidentType  StaffId  \n0    Minor Infraction  33482.0  \n1    Minor Infraction  33482.0  \n2            Positive  33482.0  \n3            Positive  33482.0  \n4    Minor Infraction  33482.0  \n..                ...      ...  \n950          Positive  33482.0  \n951  Minor Infraction  33482.0  \n952          Positive  33482.0  \n953          Positive  33482.0  \n954  Minor Infraction  33482.0  \n\n[955 rows x 9 columns]",
      "text/html": "<div>\n<style scoped>\n    .dataframe tbody tr th:only-of-type {\n        vertical-align: middle;\n    }\n\n    .dataframe tbody tr th {\n        vertical-align: top;\n    }\n\n    .dataframe thead th {\n        text-align: right;\n    }\n</style>\n<table border=\"1\" class=\"dataframe\">\n  <thead>\n    <tr style=\"text-align: right;\">\n      <th></th>\n      <th>IncidentDesc</th>\n      <th>BehaviorDt</th>\n      <th>StudLname</th>\n      <th>StudFname</th>\n      <th>StudMi</th>\n      <th>StudId</th>\n      <th>Location</th>\n      <th>IncidentType</th>\n      <th>StaffId</th>\n    </tr>\n  </thead>\n  <tbody>\n    <tr>\n      <th>0</th>\n      <td>Absent/excessively tardy w/o permission from a...</td>\n      <td>1/22/2022 15:00</td>\n      <td>ACOSTA</td>\n      <td>SAYYID</td>\n      <td>A</td>\n      <td>1867817.0</td>\n      <td>Dorm 22</td>\n      <td>Minor Infraction</td>\n      <td>33482.0</td>\n    </tr>\n    <tr>\n      <th>1</th>\n      <td>Absent/excessively tardy w/o permission from a...</td>\n      <td>1/25/2022 7:00</td>\n      <td>ACOSTA</td>\n      <td>SAYYID</td>\n      <td>A</td>\n      <td>1867817.0</td>\n      <td>Bldg.2 - Education</td>\n      <td>Minor Infraction</td>\n      <td>33482.0</td>\n    </tr>\n    <tr>\n      <th>2</th>\n      <td>Student has overcome some difficult challenges</td>\n      <td>1/25/2022 7:00</td>\n      <td>ACOSTA</td>\n      <td>SAYYID</td>\n      <td>A</td>\n      <td>1867817.0</td>\n      <td>Dorm 22</td>\n      <td>Positive</td>\n      <td>33482.0</td>\n    </tr>\n    <tr>\n      <th>3</th>\n      <td>Student exceeded expectations</td>\n      <td>1/30/2022 18:30</td>\n      <td>ACOSTA</td>\n      <td>SAYYID</td>\n      <td>A</td>\n      <td>1867817.0</td>\n      <td>Dorm 22</td>\n      <td>Positive</td>\n      <td>33482.0</td>\n    </tr>\n    <tr>\n      <th>4</th>\n      <td>Absent/excessively tardy w/o permission from a...</td>\n      <td>2/1/2022 7:00</td>\n      <td>ACOSTA</td>\n      <td>SAYYID</td>\n      <td>A</td>\n      <td>1867817.0</td>\n      <td>Bldg.2 - Education</td>\n      <td>Minor Infraction</td>\n      <td>33482.0</td>\n    </tr>\n    <tr>\n      <th>...</th>\n      <td>...</td>\n      <td>...</td>\n      <td>...</td>\n      <td>...</td>\n      <td>...</td>\n      <td>...</td>\n      <td>...</td>\n      <td>...</td>\n      <td>...</td>\n    </tr>\n    <tr>\n      <th>950</th>\n      <td>Student exhibited teamwork today</td>\n      <td>2/12/2022 16:45</td>\n      <td>WILLIS</td>\n      <td>CODY</td>\n      <td>J</td>\n      <td>1883190.0</td>\n      <td>Dorm 23</td>\n      <td>Positive</td>\n      <td>33482.0</td>\n    </tr>\n    <tr>\n      <th>951</th>\n      <td>Absent/excessively tardy w/o permission from a...</td>\n      <td>2/15/2022 8:34</td>\n      <td>WILLIS</td>\n      <td>CODY</td>\n      <td>J</td>\n      <td>1883190.0</td>\n      <td>Bldg.2 - Education</td>\n      <td>Minor Infraction</td>\n      <td>33482.0</td>\n    </tr>\n    <tr>\n      <th>952</th>\n      <td>Volunteering for extra duty</td>\n      <td>3/10/2022 21:15</td>\n      <td>WILLIS</td>\n      <td>CODY</td>\n      <td>J</td>\n      <td>1883190.0</td>\n      <td>Dorm 23</td>\n      <td>Positive</td>\n      <td>33482.0</td>\n    </tr>\n    <tr>\n      <th>953</th>\n      <td>Student was observed modeling positive behaviors</td>\n      <td>3/2/2022 14:03</td>\n      <td>WILLIS</td>\n      <td>CODY</td>\n      <td>J</td>\n      <td>1883190.0</td>\n      <td>Bldg.2 - Education</td>\n      <td>Positive</td>\n      <td>33482.0</td>\n    </tr>\n    <tr>\n      <th>954</th>\n      <td>Absent/excessively tardy w/o permission from a...</td>\n      <td>5/10/2022 8:34</td>\n      <td>WILLIS</td>\n      <td>CODY</td>\n      <td>J</td>\n      <td>1883190.0</td>\n      <td>Bldg.2 - Education</td>\n      <td>Minor Infraction</td>\n      <td>33482.0</td>\n    </tr>\n  </tbody>\n</table>\n<p>955 rows × 9 columns</p>\n</div>"
     },
     "execution_count": 4,
     "metadata": {},
     "output_type": "execute_result"
    }
   ],
   "source": [
    "data2"
   ],
   "metadata": {
    "collapsed": false,
    "pycharm": {
     "name": "#%%\n"
    }
   }
  },
  {
   "cell_type": "code",
   "execution_count": 5,
   "outputs": [
    {
     "data": {
      "text/plain": "array([ 33482., 105056., 119036.,     nan])"
     },
     "execution_count": 5,
     "metadata": {},
     "output_type": "execute_result"
    }
   ],
   "source": [
    "data2['StaffId'].unique()"
   ],
   "metadata": {
    "collapsed": false,
    "pycharm": {
     "name": "#%%\n"
    }
   }
  },
  {
   "cell_type": "code",
   "execution_count": null,
   "outputs": [],
   "source": [],
   "metadata": {
    "collapsed": false,
    "pycharm": {
     "name": "#%%\n"
    }
   }
  }
 ],
 "metadata": {
  "kernelspec": {
   "display_name": "Python 3",
   "language": "python",
   "name": "python3"
  },
  "language_info": {
   "codemirror_mode": {
    "name": "ipython",
    "version": 2
   },
   "file_extension": ".py",
   "mimetype": "text/x-python",
   "name": "python",
   "nbconvert_exporter": "python",
   "pygments_lexer": "ipython2",
   "version": "2.7.6"
  }
 },
 "nbformat": 4,
 "nbformat_minor": 0
}